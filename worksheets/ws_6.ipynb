{
 "cells": [
  {
   "cell_type": "markdown",
   "source": [
    "# Worksheet Week 6\n",
    "\n",
    "## Imports"
   ],
   "metadata": {
    "collapsed": false
   }
  },
  {
   "cell_type": "code",
   "execution_count": 76,
   "outputs": [],
   "source": [
    "import numpy as np\n",
    "import matplotlib\n",
    "import matplotlib.pyplot as plt\n"
   ],
   "metadata": {
    "collapsed": false,
    "pycharm": {
     "name": "#%%\n"
    }
   }
  },
  {
   "cell_type": "markdown",
   "source": [
    "Exercise 1"
   ],
   "metadata": {
    "collapsed": false,
    "pycharm": {
     "name": "#%% md\n"
    }
   }
  },
  {
   "cell_type": "code",
   "execution_count": 77,
   "metadata": {
    "collapsed": true,
    "pycharm": {
     "name": "#%%\n"
    }
   },
   "outputs": [],
   "source": [
    "def linear_regression(X, Y):\n",
    "    a = np.linalg.inv(X.T @ X) @ X.T @ Y\n",
    "    delta_y = Y - np.average(Y)\n",
    "    var_tot = delta_y.T.dot(delta_y)\n",
    "\n",
    "    y_model = X @ a\n",
    "    y_res = Y - y_model\n",
    "    y_res2 = y_res.T.dot(y_res)\n",
    "    r2 = 1 - y_res2 / var_tot\n",
    "\n",
    "    return a, y_model, r2\n"
   ]
  },
  {
   "cell_type": "code",
   "execution_count": 78,
   "outputs": [],
   "source": [
    "def load_regression_data():\n",
    "    x = np.array([1.0,2.0,3.0,2.5,3.0,3.0,4.0,4.0,4.5,5.0,5.0,6.0,6.0,7.0,8.0,8.0,9.0,9.0])\n",
    "    N = x.size\n",
    "    x = x.reshape(N,1)\n",
    "    y = np.array([2.0,2.0,4.0,4.0,3.0,4.0,4.0,5.0,6.0,5.0,6.0,7.0,9.0,8.0,7.0,8.0,8.0,9.0]).reshape(N,1)\n",
    "    return x,y\n",
    "\n"
   ],
   "metadata": {
    "collapsed": false,
    "pycharm": {
     "name": "#%%\n"
    }
   }
  },
  {
   "cell_type": "markdown",
   "source": [
    "## Exercise 2"
   ],
   "metadata": {
    "collapsed": false,
    "pycharm": {
     "name": "#%% md\n"
    }
   }
  },
  {
   "cell_type": "code",
   "execution_count": 79,
   "outputs": [
    {
     "name": "stdout",
     "output_type": "stream",
     "text": [
      "Parameters:  [[1.32539683]\n",
      " [0.85714286]]\n",
      "R2:  [[0.84473613]]\n"
     ]
    },
    {
     "data": {
      "text/plain": "<Figure size 432x288 with 1 Axes>",
      "image/png": "[encoded data removed]"
     },
     "metadata": {
      "needs_background": "light"
     },
     "output_type": "display_data"
    }
   ],
   "source": [
    "x,y = load_regression_data()\n",
    "X = np.stack((x**0, x), axis=1).squeeze()\n",
    "\n",
    "a, y_model, r2 = linear_regression(X, y)\n",
    "\n",
    "print(\"Parameters: \", a)\n",
    "print(\"R2: \", r2)\n",
    "\n",
    "plt.plot(x, y, '+')\n",
    "plt.plot(x, y_model)\n",
    "plt.show()\n"
   ],
   "metadata": {
    "collapsed": false,
    "pycharm": {
     "name": "#%%\n"
    }
   }
  },
  {
   "cell_type": "code",
   "execution_count": 80,
   "outputs": [],
   "source": [
    "## Exercise 3"
   ],
   "metadata": {
    "collapsed": false,
    "pycharm": {
     "name": "#%%\n"
    }
   }
  },
  {
   "cell_type": "code",
   "execution_count": 81,
   "outputs": [
    {
     "name": "stdout",
     "output_type": "stream",
     "text": [
      "Parameters:  [[ 0.58535336]\n",
      " [ 1.29212141]\n",
      " [-0.0427286 ]\n",
      " [-0.06950907]\n",
      " [ 0.53868986]]\n",
      "R2:  [[0.89712567]]\n"
     ]
    },
    {
     "data": {
      "text/plain": "<Figure size 432x288 with 1 Axes>",
      "image/png": "[encoded data removed]"
     },
     "metadata": {
      "needs_background": "light"
     },
     "output_type": "display_data"
    }
   ],
   "source": [
    "x,y = load_regression_data()\n",
    "X = np.stack((x**0, x, x**2, np.sin(x), np.cos(x)), axis=1).squeeze()\n",
    "\n",
    "a, y_model, r2 = linear_regression(X, y)\n",
    "\n",
    "print(\"Parameters: \", a)\n",
    "print(\"R2: \", r2)\n",
    "\n",
    "plt.plot(x, y, '+')\n",
    "plt.plot(x, y_model)\n",
    "plt.show()\n",
    "\n",
    "# 6.3 is better because R2 is larger compared to R2 in 6.2\n"
   ],
   "metadata": {
    "collapsed": false,
    "pycharm": {
     "name": "#%%\n"
    }
   }
  }
 ],
 "metadata": {
  "kernelspec": {
   "name": "pycharm-658b9075",
   "language": "python",
   "display_name": "PyCharm (assignments)"
  },
  "language_info": {
   "codemirror_mode": {
    "name": "ipython",
    "version": 2
   },
   "file_extension": ".py",
   "mimetype": "text/x-python",
   "name": "python",
   "nbconvert_exporter": "python",
   "pygments_lexer": "ipython2",
   "version": "2.7.6"
  }
 },
 "nbformat": 4,
 "nbformat_minor": 0
}