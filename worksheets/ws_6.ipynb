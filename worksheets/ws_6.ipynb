{
 "cells": [
  {
   "cell_type": "markdown",
   "source": [
    "# Worksheet Week 6\n",
    "\n",
    "## Imports"
   ],
   "metadata": {
    "collapsed": false
   }
  },
  {
   "cell_type": "code",
   "execution_count": 1,
   "outputs": [],
   "source": [
    "import numpy as np\n",
    "import matplotlib\n",
    "import matplotlib.pyplot as plt\n"
   ],
   "metadata": {
    "collapsed": false,
    "pycharm": {
     "name": "#%%\n"
    }
   }
  },
  {
   "cell_type": "markdown",
   "source": [
    "Exercise 1"
   ],
   "metadata": {
    "collapsed": false,
    "pycharm": {
     "name": "#%% md\n"
    }
   }
  },
  {
   "cell_type": "code",
   "execution_count": 2,
   "metadata": {
    "collapsed": true
   },
   "outputs": [],
   "source": [
    "def linear_regression(X, Y):\n",
    "    a = np.linalg.inv(X.T @ X) @ X.T @ Y\n",
    "    y_model = X @ a\n",
    "\n",
    "\n",
    "    # variance explained by the model\n",
    "    var_m = Y - y_model\n",
    "    var_m_2 = var_m @ var_m\n",
    "\n",
    "    # variance not explained by the model\n",
    "    var_o = Y - np.average(Y)\n",
    "    var_o_2 = var_o @ var_o\n",
    "\n",
    "    # Coefficient Of Determination R2\n",
    "    r_2 = 1 - var_m_2 / var_o_2\n",
    "\n",
    "    return a, y_model, r_2\n",
    "\n"
   ]
  },
  {
   "cell_type": "markdown",
   "source": [
    "## Exercise 2\n"
   ],
   "metadata": {
    "collapsed": false,
    "pycharm": {
     "name": "#%% md\n"
    }
   }
  },
  {
   "cell_type": "code",
   "execution_count": 9,
   "outputs": [
    {
     "name": "stdout",
     "output_type": "stream",
     "text": [
      "Design Matrix: \n",
      "[[[1. ]\n",
      "  [1. ]]\n",
      "\n",
      " [[1. ]\n",
      "  [2. ]]\n",
      "\n",
      " [[1. ]\n",
      "  [3. ]]\n",
      "\n",
      " [[1. ]\n",
      "  [2.5]]\n",
      "\n",
      " [[1. ]\n",
      "  [3. ]]\n",
      "\n",
      " [[1. ]\n",
      "  [3. ]]\n",
      "\n",
      " [[1. ]\n",
      "  [4. ]]\n",
      "\n",
      " [[1. ]\n",
      "  [4. ]]\n",
      "\n",
      " [[1. ]\n",
      "  [4.5]]\n",
      "\n",
      " [[1. ]\n",
      "  [5. ]]\n",
      "\n",
      " [[1. ]\n",
      "  [5. ]]\n",
      "\n",
      " [[1. ]\n",
      "  [6. ]]\n",
      "\n",
      " [[1. ]\n",
      "  [6. ]]\n",
      "\n",
      " [[1. ]\n",
      "  [7. ]]\n",
      "\n",
      " [[1. ]\n",
      "  [8. ]]\n",
      "\n",
      " [[1. ]\n",
      "  [8. ]]\n",
      "\n",
      " [[1. ]\n",
      "  [9. ]]\n",
      "\n",
      " [[1. ]\n",
      "  [9. ]]]\n"
     ]
    }
   ],
   "source": [
    "def load_regression_data():\n",
    "    x = np.array([1.0,2.0,3.0,2.5,3.0,3.0,4.0,4.0,4.5,5.0,5.0,6.0,6.0,7.0,8.0,8.0,9.0,9.0])\n",
    "    N = x.size\n",
    "    x = x.reshape(N,1)\n",
    "    y = np.array([2.0,2.0,4.0,4.0,3.0,4.0,4.0,5.0,6.0,5.0,6.0,7.0,9.0,8.0,7.0,8.0,8.0,9.0]).reshape(N,1)\n",
    "    return x,y\n",
    "\n",
    "x,y = load_regression_data()\n",
    "X = np.stack((x**0, x), axis=1)\n",
    "\n",
    "print(\"Design Matrix: \")\n",
    "print(X.squeeze())\n",
    "\n"
   ],
   "metadata": {
    "collapsed": false,
    "pycharm": {
     "name": "#%%\n"
    }
   }
  }
 ],
 "metadata": {
  "kernelspec": {
   "name": "pycharm-658b9075",
   "language": "python",
   "display_name": "PyCharm (assignments)"
  },
  "language_info": {
   "codemirror_mode": {
    "name": "ipython",
    "version": 2
   },
   "file_extension": ".py",
   "mimetype": "text/x-python",
   "name": "python",
   "nbconvert_exporter": "python",
   "pygments_lexer": "ipython2",
   "version": "2.7.6"
  }
 },
 "nbformat": 4,
 "nbformat_minor": 0
}