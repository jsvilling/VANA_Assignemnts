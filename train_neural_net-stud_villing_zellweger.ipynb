{
 "cells": [
  {
   "cell_type": "markdown",
   "metadata": {},
   "source": [
    "# Assignment 3 : Train a Neural Network "
   ]
  },
  {
   "cell_type": "markdown",
   "metadata": {},
   "source": [
    "### Goals\n",
    "\n",
    "Apply plain vanilla gradient descent to a relatively simple neural network. \n",
    "The network can be used to train a binary classification task such as distinguishing whether a cat is seen on a given image. \n",
    "\n",
    "For the implementation, a cost function is defined (on the training dataset) and the gradient w.r.t. the parameters of the model needs to be calculated. \n",
    "\n",
    "The network will be a fully connected neural network (multi-layer perceptron, MLP) with a single hidden layer. The implementation should be capable of dealing with differently shaped input datasets (input size of flattened image $n_0$) and number of units in the hidden layer ($n_1$). This will allow to apply your implementation to two different datasets, MNIST and a dataset with/without cats. \n",
    "\n",
    "**Overview**\n",
    "\n",
    "| Problem | Content | Bonus Points |\n",
    "| :--- | :--- | :---: |\n",
    "| Problem 1 | Derive Formulas | -2 to 0 |\n",
    "| Problem 2 | Implement Model and Cost Function and its Gradients | 0 to 2 |\n",
    "| Problem 3 | Implement Gradient Descent Training | 0 to 1 |\n",
    "| Problem 4 | Apply GD to MNIST | 0 to 1 |\n",
    "| Problem 5 | Apply GD to Cats/NoCats | 0 to 1 |\n",
    "\n",
    "Please send your solution per mail to [Martin Melchior](mailto:martin.melchior@fhnw.ch).\n"
   ]
  },
  {
   "cell_type": "markdown",
   "metadata": {},
   "source": [
    "## Introductionary Remarks: Imports, Plotting\n",
    "\n",
    "Implement the model as described below with <code>Numpy</code>. \n",
    "For plotting use <code>Matplotlib</code>. \n",
    "\n",
    "Hence, you will only need the following imports:\n"
   ]
  },
  {
   "cell_type": "code",
   "execution_count": 147,
   "metadata": {},
   "outputs": [],
   "source": [
    "import numpy as np\n",
    "import matplotlib\n",
    "import matplotlib.pyplot as plt"
   ]
  },
  {
   "cell_type": "markdown",
   "metadata": {},
   "source": [
    "For tracking progress of the optimization, you will plot the cost as a function of the iteration (or \"epoch\"). For this purpose, you can use the method <code>learningcurve_plots</code>. "
   ]
  },
  {
   "cell_type": "code",
   "execution_count": 148,
   "metadata": {},
   "outputs": [],
   "source": [
    "def learningcurve_plots(cost_hist, learning_speed_hist, logy=False):\n",
    "    \"\"\"\n",
    "    cost_hist -- history of cost values, as numpy-array of shape (T,1)\n",
    "    learning_speed_hist -- history of learning speed values, as numpy-array of shape (T,1)\n",
    "    logy -- if set to True will plot the y axis at logarithmic scale\n",
    "    \"\"\"\n",
    "    plt.figure(1)\n",
    "    T = len(cost_hist)\n",
    "    if logy:\n",
    "        plt.semilogy(np.arange(T),cost_hist,'b-')\n",
    "    else:\n",
    "        plt.plot(np.arange(T),cost_hist,'b-')\n",
    "    plt.title(\"Cost\")\n",
    "        \n",
    "    plt.figure(2)\n",
    "    T = len(learning_speed_hist)\n",
    "    if logy:\n",
    "        plt.semilogy(np.arange(T),learning_speed_hist,'g-')\n",
    "    else:\n",
    "        plt.plot(np.arange(T),learning_speed_hist,'g-')\n",
    "    plt.title(\"Learning Speed\")"
   ]
  },
  {
   "cell_type": "markdown",
   "metadata": {},
   "source": [
    "## Problem 1 : Derive Formulas for Model and Cost Function and Gradient\n",
    "\n",
    "### Problem 1a): Model Function and Gradient\n",
    "\n",
    "Here, you should mathematically describe the model function and its gradient. \n",
    "Actually, I will give you the structure of the model, you will then write down the components of the gradients.\n",
    "\n",
    "As described above, the model contains a single hidden layer with $n^{(h)}$ units and a single input is given by an array of length $n^{(in)}$.\n",
    "To compute the output from the input $x^{(in)}$, the following formulas hold:\n",
    "\n",
    "$a^{(h)} = \\sigma\\left(W^{(h)}\\cdot x^{(in)} + b^{(h)}\\right)$<br>\n",
    "$a^{(out)} = \\sigma\\left(W^{(out)}\\cdot a^{(h)} + b^{(out)}\\right)$\n",
    "\n",
    "where \n",
    "* $W^{(h)}$ is a $n^{(h)}\\times n^{(in)}$-matrix, \n",
    "* $b^{(h)}$ is a $n^{(h)}\\times 1$-matrix, \n",
    "* $W^{(out)}$ is a $1\\times n^{(h)}$-matrix, \n",
    "* $b^{(out)}$ is a scalar \n",
    "\n",
    "and $\\sigma(z)=\\frac{1}{1+\\exp(-z)}$ is the sigmoid function which is applied element-wise if the input is a vector or matrix. The output of the model $a^{(out)}$ is a scalar. Note that the model output is a function of the input $x$ and the model parameters summarized as $\\theta$, i.e. \n",
    "\n",
    "$$a^{(out)}=y^{(pred)}(x^{(in)},\\theta)$$\n",
    "\n",
    "Derive the formulas for the partial derivatives with respect to the components of the parameters $\\theta$, i.e. of the components of $W^{(h)}, b^{(h)}, W^{(out)}, b^{(out)}$.\n",
    "Define a scheme that makes efficient use of intermediate results, i.e. make manifest the terms that can be re-used for computing the parameters of the output and the hidden layer as well as the terms that can be reused to compute the weights and the bias for the output or the hidden layer. \n"
   ]
  },
  {
   "cell_type": "markdown",
   "metadata": {},
   "source": [
    "## Result\n",
    "\n",
    "\n",
    "#### Formula\n",
    "\n",
    "Given the definitions\n",
    "\n",
    "$a^{(h)} = \\sigma\\left(W^{(h)}\\cdot x^{(in)} + b^{(h)}\\right)$<br>\n",
    "$a^{(out)} = \\sigma\\left(W^{(out)}\\cdot a^{(h)} + b^{(out)}\\right)$\n",
    "\n",
    "it follows that\n",
    "\n",
    "$a^{(out)} = \\sigma\\left(W^{(out)}\\cdot \\sigma\\left(W^{(h)}\\cdot x^{(in)} + b^{(h)}\\right) + b^{(out)}\\right)$\n",
    "\n",
    "\n",
    "#### Gradient\n",
    "\n",
    "$\\begin{pmatrix}\n",
    "\\frac{\\delta L}{\\delta W^{(h)}} & \\frac{\\delta L}{\\delta W^{(out)}} \\\\\n",
    "\\frac{\\delta L}{\\delta b^{(h)}} & \\frac{\\delta L}{\\delta b^{(out)}} \n",
    "\\end{pmatrix}$\n",
    "\n",
    "---\n",
    "\n",
    "Derrivates with respect to the last layer: \n",
    "\n",
    "$\\frac{\\delta L}{\\delta W^{(out)}} = \\frac{\\delta L}{\\delta x^{(out)}} * \\frac{\\delta x^{(out)}}{\\delta W^{(out)}}$\n",
    "\n",
    "$\\frac{\\delta L}{\\delta b^{(out)}} = \\frac{\\delta L}{\\delta x^{(out)}} * \\frac{\\delta x^{(out)}}{\\delta b^{(out)}}$\n",
    "\n",
    "---\n",
    "\n",
    "Reuse calculations in earlier layers \n",
    "\n",
    "$\\frac{\\delta L}{\\delta x^{(h)}} = \\frac{\\delta L}{\\delta x^{(out)}} * \\frac{\\delta x^{(out)}}{\\delta x^{(h)}}$\n",
    "\n",
    "$\\frac{\\delta L}{\\delta W^{(h)}} =  \\sum \\frac{\\delta L}{\\delta x^{(h)}} * \\frac{\\delta x^{(h)}}{\\delta W^{(h)}} = \\frac{\\delta L}{\\delta x^{(out)}} * \\sum \\frac{\\delta x^{(out)}}{\\delta x^{(h)}} * \\frac{\\delta x^{(h)}}{\\delta W^{(h)}}$\n",
    "\n",
    "$\\frac{\\delta L}{\\delta b^{(h)}} = \\frac{\\delta L}{\\delta x^{(out)}} * \\sum  \\frac{\\delta x^{(out)}}{\\delta x^{(h)}} * \\frac{\\delta x^{(h)}}{\\delta b^{(h)}}$\n",
    "\n",
    "---\n",
    "\n",
    "Resolve: \n",
    "\n",
    "$\\frac{\\delta L}{\\delta x^{(out)}} = \\frac{\\hat {y} - y}{\\hat {y} ( 1 - \\hat {y} )} $\n",
    "\n",
    "$\\frac{\\delta x^{(out)}}{\\delta W^{(out)}} = \\sigma' ( W^{(out)} * x^{(h)} + b^{(out)} ) * x^{(out)} $\n",
    "\n",
    "$\\frac{\\delta x^{(out)}}{\\delta x^{(h)}} = \\sigma' ( W^{(out)} * x^{(h)} + b^{(out)} ) * W^{(out)} $"
   ]
  },
  {
   "cell_type": "markdown",
   "metadata": {},
   "source": [
    "### Probem 1b): Cost Function and Derivatives\n",
    "\n",
    "As cost function, we use the binary cross-entropy loss applied to the model prediction $y^{(pred)}=a^{(out)}$ defined to be\n",
    "\n",
    "$$L(y^{(pred)}, y) = -y\\log(y^{(pred)})-(1-y)\\log(1-y^{(pred)})$$\n",
    "\n",
    "Here, $y$ denotes the binary label associated with the input, i.e. $y\\in\\{0,1\\}$ (e.g. '0' - image contains not cat | '1' - image contains cat). For a given input $x^{(in)}=x$ we use the model with parameters $\\theta$ to predict the output $a^{(out)}=y^{(pred)}(x,\\theta)$ and then compute the loss according to the formula above. \n",
    "\n",
    "The cost function is defined as the loss function averaged over all the dataset, i.e.\n",
    "\n",
    "$$C(\\theta) = \\frac{1}{N}\\sum_{i=1}^N\\,L\\left(y^{(pred)}(x^{(i)},\\theta), y^{(i)}\\right)$$\n",
    "\n",
    "We now use gradient descent to determine the parameters at which the cost function becomes minimal.\n",
    "\n",
    "When computing the gradient of this cost w.r.t. model parameters, you need to compute the derivative of the cross entropy loss function, $L$ w.r.t. $y^{(pred)}$  and apply the chain rule.\n",
    "\n",
    "Derive the formula for the derivative of $L$ w.r.t. $y^{(pred)}$."
   ]
  },
  {
   "cell_type": "markdown",
   "metadata": {},
   "source": [
    "## Result\n",
    "\n",
    "$\\frac{\\delta L}{\\delta \\hat {y} } = (\\hat { y } log(\\hat {y} ) - (1 - y) log(1 - \\hat {y})) = \\frac{1 - y}{1 - \\hat{y}} - \\frac{y}{\\hat{y}} = -\\frac{\\hat{y} - y}{(\\hat{y} - 1) \\hat{y}}$ \n",
    "\n"
   ]
  },
  {
   "cell_type": "markdown",
   "metadata": {},
   "source": [
    "## Problem 2 : Implement Model and Cost Function and its Gradient\n",
    "\n",
    "Here, you translate the formulas of problem 1 into code. \n",
    "\n",
    "### Problem 2a): Model\n",
    "\n",
    "For convenience, we define the model as a python class which allows to keep the parameters and intermediate results (such as $a^{(h)}$) as member variables.\n",
    "\n",
    "The class should have (at least) the following instance methods:\n",
    "* $forwardprop(x)$ : Compute the model output when passing an input $x$ through the model. Implement it such that you can handle multiple inputs at the same time, i.e. assume $x$ is a numpy array of shape $(n^{(in)},N)$ where $N$ is the number of inputs.\n",
    "* $backwardprop(\\dots)$ : Compute the gradient with respect to the model parameters. \n",
    "* $initialize(\\dots)$ : Set initial values for the model parameters.\n",
    "* $update\\_params(\\dots)$: Update the model parameters in accordance with the gradient descent update rule.\n",
    "\n",
    "Make efficient use of the scheme derived in problem 1 by keeping intermediate results as member variables. Assume that $backwardprop$ is called after $forwardprop$ has been invoked. Introduce suitable member variables for the intermediate variables needed for the computation of the gradients. Furthermore, introduce member variables for the parameters (weights, bias) and their gradients.  \n",
    "\n",
    "Assume the following shapes for the quantities involved ($n^{(in)}=n0, n^{(h)}=n1$):\n",
    "* $W^{(h)}$ : 2d numpy array of shape (n1,n0)\n",
    "* $b^{(h)}$ : 1d numpy array of shape (n1,1)\n",
    "* $W^{(out)}$ : 1d numpy array of shape (1,n1)\n",
    "* $b^{(out)}$ : scalar quantity \n",
    "* $x^{(in)}$ : 2d numpy array of shape (n0,N)\n",
    "* $a^{(out)}$ : 2d numpy array of shape (1,N)\n",
    "\n",
    "For the gradients, there will be a contribution for each input which needs to be properly averaged. The resulting gradient should have the same dimension as the parameter arrays. The input to the $backwardprop$ function is fed by the derivative of the loss function (evaluated element-wise per sample. This will allow to compute gradients with respect to the parameters properly averaged over all the samples. \n"
   ]
  },
  {
   "cell_type": "code",
   "execution_count": 149,
   "metadata": {},
   "outputs": [],
   "source": [
    "def deriv_sigmoid (x):\n",
    "    sig = 1/(1+np.exp(-x)) # Sigmoid\n",
    "    return sig * (1 - sig)\n",
    "\n",
    "def sigmoid(num):\n",
    "    return 1/(1+np.exp(-num))\n",
    "\n",
    "\n",
    "class Model:\n",
    "\n",
    "    def __init__(self, ninput, nhidden):\n",
    "        \"\"\"\n",
    "        Constructor of the model designed for given input dimension and number of units in hidden layer.\n",
    "        \n",
    "        Arguments:\n",
    "        ninput - size of input\n",
    "        nhidden - size of hidden layer\n",
    "        \"\"\"\n",
    "        self.ninput = ninput\n",
    "        self.nhidden = nhidden\n",
    "        \n",
    "    def initialize(self, initial_weights_hidden, initial_weights_output):\n",
    "        \"\"\"\n",
    "        Initialize the weights of the model with given input arguments and reset the biases to zero values. \n",
    "        \n",
    "        Arguments:\n",
    "        initial_weights_hidden - initial weights of the hidden layer (must be of shape (nhidden, ninput))\n",
    "        initial_weights_output - initial weights of output layer (must be of shape (1, nhidden))\n",
    "        \"\"\"\n",
    "        # START YOUR CODE\n",
    "\n",
    "        self.weights_hidden = initial_weights_hidden\n",
    "        self.bias_hidden = 0\n",
    "        self.weights_out = initial_weights_output\n",
    "        self.bias_out = 0\n",
    "        \n",
    "        # END YOUR CODE\n",
    "        \n",
    "    def forwardprop(self, x):\n",
    "        \"\"\"\n",
    "        Computes the forward path through the model. Keeps as state variables the inputs and the activations of the hidden layer and the output layer \n",
    "        (as numpy arrays of shape (n0,N), (n1,N), (1,N)). The activations of the layer are finally returned from the method call.\n",
    "        \n",
    "        Arguments:\n",
    "        x - shape (n0, N)\n",
    "        \n",
    "        Returns:\n",
    "        output of the model, numpy array of shape (1,N)\n",
    "        \"\"\"\n",
    "        # START YOUR CODE\n",
    "        self.x = x\n",
    "        self.activation_hidden = sigmoid(np.dot(self.weights_hidden, x) + self.bias_hidden)\n",
    "        self.activation_out = sigmoid(np.dot(self.weights_out, self.activation_hidden) +  self.bias_out)\n",
    "        return self.activation_out\n",
    "        # END YOUR CODE\n",
    "        \n",
    "    def backwardprop(self, deriv_loss):\n",
    "        \"\"\"\n",
    "        The computation is done after running the forwardprop.\n",
    "        \n",
    "        Arguments:\n",
    "        deriv_loss - the gradient of the loss w.r.t. output of the model, a numpy array of shape (1,N)\n",
    "        \n",
    "        Returns:\n",
    "        None\n",
    "        \n",
    "        \"\"\"\n",
    "        # START YOUR CODE\n",
    "        deltaOut = deriv_loss * deriv_sigmoid(self.weights_out.dot(self.activation_hidden) + self.bias_out)\n",
    "        deltaH = self.weights_out.T.dot(deltaOut) * deriv_sigmoid(self.weights_hidden.dot(self.x) + self.bias_hidden)\n",
    "        self.bias_hidden_grad = deltaH\n",
    "        self.weights_hidden_grad = deltaH.dot(self.x.T)\n",
    "        self.bias_out_grad = deltaOut\n",
    "        self.weights_out_grad = deltaOut.dot(self.activation_hidden.T)\n",
    "        # END YOUR CODE\n",
    "        \n",
    "        \n",
    "    def update_params(self, lr):\n",
    "        \"\"\"\n",
    "        Updates the parameters of the model according to gradient descent. It is assumed that the weights are properly initialized and the gradients\n",
    "        previously computed.\n",
    "        \n",
    "        Arguments:\n",
    "        lr - learning rate\n",
    "        \n",
    "        Returns:\n",
    "        None\n",
    "        \n",
    "        \"\"\"\n",
    "        # START YOUR CODE\n",
    "\n",
    "        # Update weights and biases with the calculated gradient times the learning rate\n",
    "        self.weights_hidden = self.weights_hidden + self.weights_hidden_grad * lr\n",
    "        self.bias_hidden = self.bias_hidden + np.average(self.bias_hidden_grad * lr)\n",
    "        self.weights_out = self.weights_out + self.weights_out_grad * lr\n",
    "        self.bias_out = self.bias_out + np.average(self.bias_out_grad * lr)\n",
    "        \n",
    "        # END YOUR CODE"
   ]
  },
  {
   "cell_type": "markdown",
   "metadata": {},
   "source": [
    "### Problem 2b): Cost, Loss \n",
    "\n",
    "Similarly, we define a class for the Cross-Entropy loss function. While the loss has been defined in 1b), the **cost** just takes the average over all data points in the dataset used for training.\n",
    "\n",
    "Implement for the cross-entropy class the instance methods \n",
    "* $cost(...)$\n",
    "* $derivative\\_loss(...)$\n",
    "\n",
    "as described below. Note that these are evaluated for given numpy arrays $ypred$ and $ytrue$ with the model prediction $a^{(out)}$ and the true label $y$, each of shape $(1,N)$. "
   ]
  },
  {
   "cell_type": "code",
   "execution_count": 150,
   "metadata": {},
   "outputs": [],
   "source": [
    "class CrossEntropy:\n",
    "\n",
    "    def cost(self, ypred, ytrue):\n",
    "        \"\"\"\n",
    "        Computes the average binary cross entropy cost for given arrays ytrue and ypred, with the ground truth label values (in {0,1}) \n",
    "        and the predicted proabability to observe label 1, respectively.\n",
    "\n",
    "        Arguments:\n",
    "        ypred - numpy array of shape (1,N) with the predicted values for N data points\n",
    "        ytrue - numpy array of shape (1,N) with the ground truth values for N data points\n",
    "\n",
    "        Returns:\n",
    "        Cost averaged over the samples, i.e. a scalar value.\n",
    "        \"\"\"\n",
    "        # START YOUR CODE\n",
    "        cost = 0\n",
    "        for (p, e) in zip(ypred[0], ytrue[0]):\n",
    "            cost += -e * np.log(p) - (1 - e) * np.log(1 - p)\n",
    "        return cost / len(ypred[0])\n",
    "        # END YOUR CODE\n",
    "\n",
    "    \n",
    "    def derivative_loss(self, ypred, ytrue):\n",
    "        \"\"\"\n",
    "        Computes the derivative of the cross entropy loss function for given true label y and predicted ypred. \n",
    "        We expect numpy arrays to be passed as input arguments, so that the derivative should be computed element-wise. \n",
    "\n",
    "        Arguments:\n",
    "        ypred - numpy array of shape (1,N) with the predicted values for N data points\n",
    "        ytrue - numpy array of shape (1,N) with the ground truth values for N data points\n",
    "\n",
    "        Returns:\n",
    "        Element-wise derivative of the loss function (numpy array of shape (1,N))\n",
    "        \"\"\"    \n",
    "        # START YOUR CODE\n",
    "        return -(ypred - ytrue) / (ypred * (1 - ypred))\n",
    "        # END YOUR CODE"
   ]
  },
  {
   "cell_type": "markdown",
   "metadata": {},
   "source": [
    "## Problem 3: Implement the Gradient Descent Training (GD)\n",
    "\n",
    "Implement the gradient descent update loop for a given instance of the model and cost.\n",
    "\n",
    "In order to monitor the update of the training, keep book at each iteration about \n",
    "* value of the cost (at the given parameters)\n",
    "* learning speed (~length of the gradient) "
   ]
  },
  {
   "cell_type": "code",
   "execution_count": 151,
   "metadata": {},
   "outputs": [],
   "source": [
    "def vanilla_gradient_descent(model, cost, weights_hidden, weights_output, data, lr, epochs, eps = 1e4):\n",
    "    \"\"\"\n",
    "    Performs plain vanilla gradient descent for the cost function. The variables x of the function are provided as np-arrays.\n",
    "    \n",
    "    Arguments:\n",
    "    model -- model\n",
    "    cost -- cost function object\n",
    "    weights_hidden -- weights in the hidden layer\n",
    "    weights_output -- weights in the output layer\n",
    "    lr -- learning rate\n",
    "    epochs -- maximum number of iterations\n",
    "    data -- dataset as dictionary with the input data (key: \"input\" | value: numpy array of shape (n0,N)) and label data (key: \"label\" | numpy array of shape (1,N)) \n",
    "    \n",
    "    Returns:\n",
    "    cost_hist -- history of the values of the cost function seen during the iteration loop: np-array of shape (T,1) where T is the number of iteration needed.\n",
    "    learning_speed_hist -- history of the learning speed where the learning speed given by the norm of the difference between subsequent x-values: np-array of shape (T,1) where T is the number of iteration needed.\n",
    "    \"\"\"\n",
    "    # START YOUR CODE\n",
    "\n",
    "    # Setup Model\n",
    "    model.initialize(weights_hidden, weights_output)\n",
    "\n",
    "    # Setup History Arrays\n",
    "    cost_hist = np.array([])\n",
    "    learning_speed_hist = np.array([])\n",
    "    \n",
    "\n",
    "    # Setup input and expected data\n",
    "    x = data['input']\n",
    "    expected = data['labels']\n",
    "\n",
    "    # Do first iteration outside of loop to setup cost history\n",
    "    o = model.forwardprop(x)\n",
    "    cost_hist = np.append(cost_hist, [cost.cost(o, expected)])\n",
    "\n",
    "    loss = cost.derivative_loss(o, expected)\n",
    "    model.backwardprop(loss)\n",
    "    model.update_params(lr)\n",
    "\n",
    "    # Learn for epoch iterations\n",
    "    for i in range(epochs):\n",
    "        o = model.forwardprop(x)\n",
    "        cost_hist = np.append(cost_hist, [cost.cost(o, expected)])\n",
    "        loss = cost.derivative_loss(o, expected)\n",
    "        model.backwardprop(loss)\n",
    "        model.update_params(lr)\n",
    "        ls = cost_hist[-2] - cost_hist[-1]\n",
    "        learning_speed_hist = np.append(learning_speed_hist, [ls])\n",
    "        \n",
    "        if (ls == 0):\n",
    "            break\n",
    "\n",
    "    return cost_hist, learning_speed_hist\n",
    "    # END YOUR CODE"
   ]
  },
  {
   "cell_type": "markdown",
   "metadata": {},
   "source": [
    "The following helper function will be useful to initialize the weights arrays - that will be passed to the $initialize$-method of the <code>Model</code> class.  "
   ]
  },
  {
   "cell_type": "code",
   "execution_count": 152,
   "metadata": {},
   "outputs": [],
   "source": [
    "def initial_weights(n0, n1):\n",
    "    \"\"\"\n",
    "    Prepares a random 2d numpy array of shape (n0,n1) suited as initial weights for the training of the neural network model.\n",
    "    \"\"\"\n",
    "    weights_hidden = np.random.normal(size=(n1,n0), loc=0.0, scale=1.0/np.sqrt(n1*n0))\n",
    "    weights_output = np.random.normal(size=(1,n1), loc=0.0, scale=1.0/np.sqrt(n1))\n",
    "    return (weights_hidden, weights_output)"
   ]
  },
  {
   "cell_type": "markdown",
   "metadata": {},
   "source": [
    "## MNIST Dataset\n",
    "\n",
    "We here want to train a classifier for the MNIST dataset that is often used in machine learning. The images are digitized, hand-written figures. Actually, we use a light-weight version which consists of only 1797 images with 8x8 pixels. The vectors contained in $X$ are 64-dim vectors (8x8=64) - its elements correspond to the gray-scale values of the pixels (normalized to be included in [0,1]). \n",
    "\n",
    "The label values are set to '1' (`true`) if the hand-written figure is a '1' and '0' (`false`) in all the other cases. "
   ]
  },
  {
   "cell_type": "code",
   "execution_count": 153,
   "metadata": {},
   "outputs": [
    {
     "name": "stdout",
     "output_type": "stream",
     "text": [
      "(64, 1797) (1, 1797)\n"
     ]
    }
   ],
   "source": [
    "# Please make sure that the data file is included in the same folder as the given jupyter notebook. \n",
    "data = np.load( \"./vana_data.npz\" )\n",
    "X = data['X'].T[1:,:]\n",
    "y = data['y'].T.reshape(1,X.shape[1])\n",
    "print(X.shape,y.shape)"
   ]
  },
  {
   "cell_type": "markdown",
   "metadata": {},
   "source": [
    "Now, you can access the samples of the daatset by accessing the columns of $X$. In numpy: `x_i = X[:,i]`. \n",
    "If you reshape it to 8x8 you can eventually recognize the digit depicted on the image (a '0' in the example below):"
   ]
  },
  {
   "cell_type": "code",
   "execution_count": 154,
   "metadata": {},
   "outputs": [
    {
     "data": {
      "text/plain": [
       "array([[0.    , 0.    , 0.3125, 0.8125, 0.5625, 0.0625, 0.    , 0.    ],\n",
       "       [0.    , 0.    , 0.8125, 0.9375, 0.625 , 0.9375, 0.3125, 0.    ],\n",
       "       [0.    , 0.1875, 0.9375, 0.125 , 0.    , 0.6875, 0.5   , 0.    ],\n",
       "       [0.    , 0.25  , 0.75  , 0.    , 0.    , 0.5   , 0.5   , 0.    ],\n",
       "       [0.    , 0.3125, 0.5   , 0.    , 0.    , 0.5625, 0.5   , 0.    ],\n",
       "       [0.    , 0.25  , 0.6875, 0.    , 0.0625, 0.75  , 0.4375, 0.    ],\n",
       "       [0.    , 0.125 , 0.875 , 0.3125, 0.625 , 0.75  , 0.    , 0.    ],\n",
       "       [0.    , 0.    , 0.375 , 0.8125, 0.625 , 0.    , 0.    , 0.    ]])"
      ]
     },
     "execution_count": 154,
     "metadata": {},
     "output_type": "execute_result"
    }
   ],
   "source": [
    "X[:,0].reshape(8,8)"
   ]
  },
  {
   "cell_type": "markdown",
   "metadata": {},
   "source": [
    "The 2d arrays can be plotted as image by applying the following code snippets: "
   ]
  },
  {
   "cell_type": "code",
   "execution_count": 155,
   "metadata": {},
   "outputs": [
    {
     "data": {
      "text/plain": [
       "Text(0.5, 1.0, 'Label: 0')"
      ]
     },
     "execution_count": 155,
     "metadata": {},
     "output_type": "execute_result"
    },
    {
     "data": {
      "image/png": "[encoded data removed]",
      "text/plain": [
       "<Figure size 432x288 with 1 Axes>"
      ]
     },
     "metadata": {
      "needs_background": "light"
     },
     "output_type": "display_data"
    }
   ],
   "source": [
    "item = 0\n",
    "plt.imshow( X[:,item].reshape(8,8), cmap=\"binary\" )\n",
    "plt.title( \"Label: \" + str( y[0,item] )) "
   ]
  },
  {
   "cell_type": "markdown",
   "metadata": {},
   "source": [
    "The following should rather be a '1' (since the label is '1'):"
   ]
  },
  {
   "cell_type": "code",
   "execution_count": 156,
   "metadata": {},
   "outputs": [
    {
     "data": {
      "text/plain": [
       "Text(0.5, 1.0, 'Label: 1')"
      ]
     },
     "execution_count": 156,
     "metadata": {},
     "output_type": "execute_result"
    },
    {
     "data": {
      "image/png": "[encoded data removed]",
      "text/plain": [
       "<Figure size 432x288 with 1 Axes>"
      ]
     },
     "metadata": {
      "needs_background": "light"
     },
     "output_type": "display_data"
    }
   ],
   "source": [
    "item = 1\n",
    "plt.imshow( X[:,item].reshape(8,8), cmap=\"binary\" )\n",
    "plt.title( \"Label: \" + str( y[0,item] )) "
   ]
  },
  {
   "cell_type": "markdown",
   "metadata": {},
   "source": [
    "## Problem 4: Apply GD to MNIST\n",
    "\n",
    "We here ignore ML specific aspects such as using a part of the data for validation and test or dealing with class-imbalance. We rather just want to see whether the optimization works.  \n",
    "\n",
    "(1) Apply the functionality implemented above to train MNIST. Use the <code>learningcurve_plots</code> to visualize whether gradient descent was performing well over the iterations. Also compute the final error rate, i.e. the percentage of wrong predictions. The predicted label can be obtained from $y^{(pred)}(\\theta,x)$ by just rounding it to 0 or 1.\n",
    "\n",
    "(2) Compare and characterize the shape of the learning for different learning rates. What's the \"best\" learning rate (<code>lr</code>). How many iterations (<code>epochs</code> should be set?"
   ]
  },
  {
   "cell_type": "code",
   "execution_count": 157,
   "metadata": {
    "scrolled": true
   },
   "outputs": [
    {
     "name": "stdout",
     "output_type": "stream",
     "text": [
      "Learning Rate: 0.01000\n",
      "Epochs: 1000.00000\n",
      "error rate: 0%\n"
     ]
    },
    {
     "data": {
      "image/png": "[encoded data removed]",
      "text/plain": [
       "<Figure size 432x288 with 1 Axes>"
      ]
     },
     "metadata": {
      "needs_background": "light"
     },
     "output_type": "display_data"
    },
    {
     "data": {
      "image/png": "[encoded data removed]",
      "text/plain": [
       "<Figure size 432x288 with 1 Axes>"
      ]
     },
     "metadata": {
      "needs_background": "light"
     },
     "output_type": "display_data"
    }
   ],
   "source": [
    "n0 = X.shape[0]\n",
    "n1 = 50\n",
    "\n",
    "lr = 0.01\n",
    "epochs = 1000\n",
    "print(\"Learning Rate: %6.5f\"%lr)\n",
    "print(\"Epochs: %6.5f\"%epochs)\n",
    "\n",
    "# START YOUR CODE\n",
    "\n",
    "\n",
    "def learn(n0, n1, lr, epochs):\n",
    "\n",
    "    w_h, w_out = initial_weights(n0, n1)\n",
    "\n",
    "    ce = CrossEntropy()\n",
    "    model = Model(n0, n1)\n",
    "\n",
    "    data = { \n",
    "        \"input\": X, \n",
    "        \"labels\": y \n",
    "    }\n",
    "    \n",
    "    c, ls = vanilla_gradient_descent(model, ce, w_h, w_out, data, lr, epochs)\n",
    "    learningcurve_plots(c, ls)\n",
    "\n",
    "\n",
    "    o = model.forwardprop(X)\n",
    "\n",
    "    correct = 0\n",
    "    error = 0\n",
    "    for i in range(len(y[0])):\n",
    "        if round(o[0,i]) == y[0,i]:\n",
    "            correct += 1\n",
    "        else:\n",
    "            error += 1\n",
    "\n",
    "    print (\"error rate: %i%%\"%((error/y[0].__len__())*100))\n",
    "    \n",
    "    \n",
    "learn(n0, n1, lr, epochs)\n",
    "    \n",
    "# END YOUR CODE"
   ]
  },
  {
   "cell_type": "markdown",
   "metadata": {},
   "source": [
    "The run with learning rate 0.01 and epochs 1000 shows that 0.01 is to large a learning rate. This is evident by the initial peak. We test the next iteration with the larning rate reduced by a factor of 10. The epoch for this iteration will be reduced 200, as we see that the cost stagnates before reaching 200. "
   ]
  },
  {
   "cell_type": "code",
   "execution_count": 158,
   "metadata": {},
   "outputs": [
    {
     "name": "stdout",
     "output_type": "stream",
     "text": [
      "error rate: 1%\n"
     ]
    },
    {
     "data": {
      "image/png": "[encoded data removed]",
      "text/plain": [
       "<Figure size 432x288 with 1 Axes>"
      ]
     },
     "metadata": {
      "needs_background": "light"
     },
     "output_type": "display_data"
    },
    {
     "data": {
      "image/png": "[encoded data removed]",
      "text/plain": [
       "<Figure size 432x288 with 1 Axes>"
      ]
     },
     "metadata": {
      "needs_background": "light"
     },
     "output_type": "display_data"
    }
   ],
   "source": [
    "lr = 0.001\n",
    "epochs = 200\n",
    "learn(n0, n1, lr, epochs)"
   ]
  },
  {
   "cell_type": "markdown",
   "metadata": {},
   "source": [
    "The run with learning rate 0.001 and epochs 20 shows that 0.001 still is to large a learning rate. We do see the same  peak at the beginning. We again reduce the learning rate by a factor of 10. As the cost graph does not clearly stagnate before 200 we will increase the learning rate two fold to 400. "
   ]
  },
  {
   "cell_type": "code",
   "execution_count": 159,
   "metadata": {},
   "outputs": [
    {
     "name": "stdout",
     "output_type": "stream",
     "text": [
      "error rate: 5%\n"
     ]
    },
    {
     "data": {
      "image/png": "[encoded data removed]",
      "text/plain": [
       "<Figure size 432x288 with 1 Axes>"
      ]
     },
     "metadata": {
      "needs_background": "light"
     },
     "output_type": "display_data"
    },
    {
     "data": {
      "image/png": "[encoded data removed]",
      "text/plain": [
       "<Figure size 432x288 with 1 Axes>"
      ]
     },
     "metadata": {
      "needs_background": "light"
     },
     "output_type": "display_data"
    }
   ],
   "source": [
    "lr = 0.0001\n",
    "epochs = 400\n",
    "learn(n0, n1, lr, epochs)"
   ]
  },
  {
   "cell_type": "markdown",
   "metadata": {},
   "source": [
    "This looks a lot better. However the error rate is much to high at 8%. We test with an increased learning rate of 0,0005 end a few more epochs at 500."
   ]
  },
  {
   "cell_type": "code",
   "execution_count": 160,
   "metadata": {},
   "outputs": [
    {
     "name": "stdout",
     "output_type": "stream",
     "text": [
      "error rate: 1%\n"
     ]
    },
    {
     "data": {
      "image/png": "[encoded data removed]",
      "text/plain": [
       "<Figure size 432x288 with 1 Axes>"
      ]
     },
     "metadata": {
      "needs_background": "light"
     },
     "output_type": "display_data"
    },
    {
     "data": {
      "image/png": "[encoded data removed]",
      "text/plain": [
       "<Figure size 432x288 with 1 Axes>"
      ]
     },
     "metadata": {
      "needs_background": "light"
     },
     "output_type": "display_data"
    }
   ],
   "source": [
    "lr = 0.0005\n",
    "epochs = 500\n",
    "learn(n0, n1, lr, epochs)"
   ]
  },
  {
   "cell_type": "markdown",
   "metadata": {},
   "source": [
    "Finally we have find near optimal parameters at learning rate 0,0005 and epochs 500."
   ]
  },
  {
   "cell_type": "markdown",
   "metadata": {},
   "source": [
    "# Cat/NoCat Images"
   ]
  },
  {
   "cell_type": "markdown",
   "metadata": {},
   "source": [
    "You now can apply the approach(es) implemented above to the cat/nocat use case - alternatively, you can pick another suitable use case. \n",
    "\n",
    "For loading the cat/nocat dataset run the following lines of code. "
   ]
  },
  {
   "cell_type": "code",
   "execution_count": 161,
   "metadata": {},
   "outputs": [
    {
     "data": {
      "text/plain": [
       "[(12288, 209), (1, 209), (12288, 50), (1, 50)]"
      ]
     },
     "execution_count": 161,
     "metadata": {},
     "output_type": "execute_result"
    }
   ],
   "source": [
    "cat_nocat_data = np.load(\"./cat_nocat_data.npz\") # point to the suitable folder relative to the folder of the notebook\n",
    "X_train = cat_nocat_data['X_train'].T\n",
    "X_test = cat_nocat_data['X_test'].T\n",
    "y_train = cat_nocat_data['y_train'].T.reshape(1,X_train.shape[1])\n",
    "y_test = cat_nocat_data['y_test'].T.reshape(1,X_test.shape[1])\n",
    "[X_train.shape, y_train.shape, X_test.shape, y_test.shape]"
   ]
  },
  {
   "cell_type": "markdown",
   "metadata": {},
   "source": [
    "With the following function you can plot a few sample images:"
   ]
  },
  {
   "cell_type": "code",
   "execution_count": null,
   "metadata": {},
   "outputs": [],
   "source": [
    "def plot_image( X, y ):\n",
    "    plt.imshow( X.reshape(64,64,3) )\n",
    "    title = 'cat' if y==1 else 'non-cat'\n",
    "    plt.title( title )\n",
    "\n",
    "plt.figure(figsize=(20,20))\n",
    "for i in range(10):\n",
    "    for j in range(10):\n",
    "        plt.subplot2grid((10,10),(i,j))\n",
    "        plot_image( X_train[:,10*i+j], y_train[0,10*i+j] )\n",
    "plt.tight_layout()"
   ]
  },
  {
   "cell_type": "markdown",
   "metadata": {},
   "source": [
    "Actually, we have loaded \n",
    "* a training set (with 209 samples) that can be used to train the model, i.e. optimize the model parameters\n",
    "* a test set (with 50 samples) that can be used to test the performance of the trained model.\n",
    "\n",
    "The images are flattened arrays of size $64\\times 64\\times 3=12288$, i.e. quite large arrays."
   ]
  },
  {
   "cell_type": "markdown",
   "metadata": {},
   "source": [
    "## Problem 5 : Apply GD to Cat/NoCat Dataset\n",
    "\n",
    "Apply Gradient Descent to train a classifier that can distinguish images with or without cats. \n",
    "\n",
    "(1) Apply the functionality implemented above to optimize the cost functio defined with `X_train` und `y_train`. Again, use the <code>learningcurve_plots</code> to visualize whether gradient descent was performing well over the iterations. The training will take more time than for MNIST. So, at beginning use at max 1000 Iterationen.\n",
    "\n",
    "(2) Use the trained model to make predictions for the test data (not used for training). Determine the percentage of correct predictions for the train and test dataset. As label predicted by the model you can use (for simplicity) $y^{(pred)}(\\theta, x)$ round to 0 or 1. \n",
    "\n",
    "(3) What is a reasonable number of iterations (epochs) to be chosen?\n",
    "\n",
    "(4) Explore the images for which the model gives a wrong prediction."
   ]
  },
  {
   "cell_type": "code",
   "execution_count": null,
   "metadata": {},
   "outputs": [],
   "source": [
    "n0 = X_train.shape[0]\n",
    "n1 = 50\n",
    "\n",
    "lr = 0.001\n",
    "epochs = 1000\n",
    "print(\"Learning Rate: %6.5f\"%lr)\n",
    "print(\"Epochs: %6.5f\"%epochs)\n",
    "\n",
    "\n",
    "# START YOUR CODE\n",
    "w_h, w_out = initial_weights(n0, n1)\n",
    "\n",
    "ce = CrossEntropy()\n",
    "model = Model(n0, n1)\n",
    "\n",
    "data = { \n",
    "    \"input\": X_train, \n",
    "    \"labels\": y_train \n",
    "}\n",
    "\n",
    "c, ls = vanilla_gradient_descent(model, ce, w_h, w_out, data, lr, epochs)\n",
    "learningcurve_plots(c, ls)\n",
    "\n",
    "# END YOUR CODE\n"
   ]
  },
  {
   "cell_type": "code",
   "execution_count": null,
   "metadata": {},
   "outputs": [],
   "source": [
    "## YOUR FINDINGS on (3) SHOULD BE POSTED HERE\n",
    "##\n",
    "\n",
    "o = model.forwardprop(X_test)\n",
    "\n",
    "correct = 0\n",
    "error = 0\n",
    "wrong_images = []\n",
    "for i in range(len(y_test[0])):\n",
    "    if round(o[0,i]) == y_test[0,i]:\n",
    "        correct += 1\n",
    "    else:\n",
    "        error += 1\n",
    "        wrong_images.append((i, o[0, i]))\n",
    "\n",
    "print (\"error rate: %i%%\"%((error/len(y_test[0]))*100))"
   ]
  },
  {
   "cell_type": "code",
   "execution_count": null,
   "metadata": {},
   "outputs": [],
   "source": [
    "## YOUR FINDINGS on (4) SHOULD BE POSTED HERE\n",
    "##\n",
    "\n",
    "print('Wrong data: ')\n",
    "\n",
    "plt.figure(figsize=(20,20))\n",
    "j = 0\n",
    "for (i, img) in wrong_images: \n",
    "    print(i, ': ', img)\n",
    "    plt.subplot2grid((10,10), (int(j/10), j % 10))\n",
    "    plot_image( X_test[:,i], y_test[0,i] )\n",
    "    \n",
    "    j += 1\n"
   ]
  },
  {
   "cell_type": "markdown",
   "metadata": {},
   "source": [
    "After looking at the images that had wrong predictions, I think the main problem may be connected to colors. \n",
    "\n",
    "Most of the wrong images do not have a lot of contrast. All elements on the image are in colors that are quite close together. Another commonality is, that a lot of the images have almost unicolored backgrounds. My assumption would be that the model 'focused' on color differences over the image which leads to wrong predictions in these images. \n",
    "\n",
    "To solve this problem we would need to find a way to train the model to detect edges between objects in the images. A larger dataset with more images that are difficult in this regard might help. It is however also possible, that our model is not suited for this task at all. And using another model with the same data would yield much better results. "
   ]
  }
 ],
 "metadata": {
  "kernelspec": {
   "display_name": "Python 3",
   "language": "python",
   "name": "python3"
  },
  "language_info": {
   "codemirror_mode": {
    "name": "ipython",
    "version": 3
   },
   "file_extension": ".py",
   "mimetype": "text/x-python",
   "name": "python",
   "nbconvert_exporter": "python",
   "pygments_lexer": "ipython3",
   "version": "3.8.3"
  }
 },
 "nbformat": 4,
 "nbformat_minor": 4
}
